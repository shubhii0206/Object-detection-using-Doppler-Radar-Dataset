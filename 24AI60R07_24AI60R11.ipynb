{
 "cells": [
  {
   "cell_type": "code",
   "execution_count": null,
   "metadata": {
    "_cell_guid": "b1076dfc-b9ad-4769-8c92-a6c4dae69d19",
    "_uuid": "8f2839f25d086af736a60e9eeb907d3b93b6e0e5",
    "execution": {
     "iopub.execute_input": "2024-11-15T06:31:59.014140Z",
     "iopub.status.busy": "2024-11-15T06:31:59.013807Z",
     "iopub.status.idle": "2024-11-15T06:31:59.018891Z",
     "shell.execute_reply": "2024-11-15T06:31:59.017971Z",
     "shell.execute_reply.started": "2024-11-15T06:31:59.014109Z"
    },
    "id": "4pOVV4_aqsbO",
    "trusted": true
   },
   "outputs": [],
   "source": [
    "# This Python 3 environment comes with many helpful analytics libraries installed\n",
    "# It is defined by the kaggle/python Docker image: https://github.com/kaggle/docker-python\n",
    "# For example, here's several helpful packages to load\n",
    "\n",
    "import numpy as np # linear algebra\n",
    "import pandas as pd # data processing, CSV file I/O (e.g. pd.read_csv)\n",
    "\n",
    "# Input data files are available in the read-only \"../input/\" directory\n",
    "# For example, running this (by clicking run or pressing Shift+Enter) will list all files under the input directory\n",
    "\n",
    "# import os\n",
    "# for dirname, _, filenames in os.walk('/kaggle/input'):\n",
    "#     for filename in filenames:\n",
    "#         print(os.path.join(dirname, filename))\n",
    "\n",
    "# You can write up to 5GB to the current directory (/kaggle/working/) that gets preserved as output when you create a version using \"Save & Run All\"\n",
    "# You can also write temporary files to /kaggle/temp/, but they won't be saved outside of the current session"
   ]
  },
  {
   "cell_type": "code",
   "execution_count": null,
   "metadata": {
    "_cell_guid": "79c7e3d0-c299-4dcb-8224-4455121ee9b0",
    "_uuid": "d629ff2d2480ee46fbb7e2d37f6b5fab8052498a",
    "execution": {
     "iopub.execute_input": "2024-11-15T06:31:59.024604Z",
     "iopub.status.busy": "2024-11-15T06:31:59.024311Z",
     "iopub.status.idle": "2024-11-15T06:32:04.709640Z",
     "shell.execute_reply": "2024-11-15T06:32:04.708941Z",
     "shell.execute_reply.started": "2024-11-15T06:31:59.024574Z"
    },
    "id": "OzN6YQC8qsbR",
    "trusted": true
   },
   "outputs": [],
   "source": [
    "import  tensorflow as tf\n",
    "import tensorflow.keras as k\n",
    "import numpy as np\n",
    "import pandas as pd\n",
    "import sklearn as sk\n",
    "import matplotlib.pyplot as plt\n",
    "import pickle\n",
    "import os\n",
    "from sklearn.metrics import confusion_matrix, ConfusionMatrixDisplay"
   ]
  },
  {
   "cell_type": "markdown",
   "metadata": {
    "id": "x78S6peXqsbR"
   },
   "source": [
    "# Data Preprocessing"
   ]
  },
  {
   "cell_type": "code",
   "execution_count": null,
   "metadata": {
    "execution": {
     "iopub.execute_input": "2024-11-15T06:32:04.712173Z",
     "iopub.status.busy": "2024-11-15T06:32:04.711877Z",
     "iopub.status.idle": "2024-11-15T06:34:33.569204Z",
     "shell.execute_reply": "2024-11-15T06:34:33.568273Z",
     "shell.execute_reply.started": "2024-11-15T06:32:04.712143Z"
    },
    "id": "pgpG7CH6qsbT",
    "outputId": "35d5a2db-ac60-4cd0-ccd8-411668221dce",
    "trusted": true
   },
   "outputs": [
    {
     "name": "stdout",
     "output_type": "stream",
     "text": [
      "done car\n",
      "done drone\n",
      "done people\n"
     ]
    }
   ],
   "source": [
    "# Define the path to the dataset directory\n",
    "path = \"/kaggle/input/real-doppler-raddar-database/data/\"\n",
    "\n",
    "# Initialize lists to store data and labels\n",
    "car = []  # List to store car data\n",
    "x = []    # Combined data for all categories (features)\n",
    "y = []    # Combined labels for all categories (targets)\n",
    "\n",
    "# Process the \"Cars\" directory\n",
    "file = os.listdir(path + 'Cars/')  # List all subdirectories in the \"Cars\" folder\n",
    "# Loop through each subdirectory\n",
    "for i in file:\n",
    "    f = os.listdir(path + 'Cars/' + i)  # List all files in the current subdirectory\n",
    "    for j in f:\n",
    "        # Read the CSV file as a DataFrame and convert to NumPy array\n",
    "        p = pd.read_csv(path + \"Cars/\" + i + \"/\" + j, header=None)\n",
    "        p = p.to_numpy()\n",
    "        car.append(p)  # Append to the car-specific list\n",
    "        x.append(p)    # Append to the combined data list\n",
    "        d = [1, 0, 0]  # Label for cars\n",
    "        y.append(d)    # Append the label to the labels list\n",
    "print(\"done car\")\n",
    "\n",
    "# Initialize a list to store drone data\n",
    "drone = []\n",
    "\n",
    "# Process the \"Drones\" directory\n",
    "file = os.listdir(path + 'Drones/')  # List all subdirectories in the \"Drones\" folder\n",
    "for i in file:\n",
    "    f = os.listdir(path + 'Drones/' + i)  # List all files in the current subdirectory\n",
    "    for j in f:\n",
    "        # Read the CSV file as a DataFrame and convert to NumPy array\n",
    "        p = pd.read_csv(path + \"Drones/\" + i + \"/\" + j, header=None)\n",
    "        p = p.to_numpy()\n",
    "        drone.append(p)  # Append to the drone-specific list\n",
    "        x.append(p)      # Append to the combined data list\n",
    "        d = [0, 1, 0]    # Label for drones\n",
    "        y.append(d)      # Append the label to the labels list\n",
    "print(\"done drone\")\n",
    "\n",
    "# Initialize a list to store people data\n",
    "people = []\n",
    "\n",
    "# Process the \"People\" directory\n",
    "file = os.listdir(path + 'People/')  # List all subdirectories in the \"People\" folder\n",
    "for i in file:\n",
    "    f = os.listdir(path + 'People/' + i)  # List all files in the current subdirectory\n",
    "    for j in f:\n",
    "        # Read the CSV file as a DataFrame and convert to NumPy array\n",
    "        p = pd.read_csv(path + \"People/\" + i + \"/\" + j, header=None)\n",
    "        p = p.to_numpy()\n",
    "        people.append(p)  # Append to the people-specific list\n",
    "        x.append(p)       # Append to the combined data list\n",
    "        d = [0, 0, 1]     # Label for people\n",
    "        y.append(d)       # Append the label to the labels list\n",
    "print(\"done people\")\n"
   ]
  },
  {
   "cell_type": "code",
   "execution_count": null,
   "metadata": {
    "execution": {
     "iopub.execute_input": "2024-11-15T06:34:33.570871Z",
     "iopub.status.busy": "2024-11-15T06:34:33.570565Z",
     "iopub.status.idle": "2024-11-15T06:34:33.689456Z",
     "shell.execute_reply": "2024-11-15T06:34:33.688739Z",
     "shell.execute_reply.started": "2024-11-15T06:34:33.570843Z"
    },
    "id": "NWsiH4MdqsbU",
    "trusted": true
   },
   "outputs": [],
   "source": [
    "r=np.save('input',x)"
   ]
  },
  {
   "cell_type": "code",
   "execution_count": null,
   "metadata": {
    "execution": {
     "iopub.execute_input": "2024-11-15T06:34:33.691025Z",
     "iopub.status.busy": "2024-11-15T06:34:33.690768Z",
     "iopub.status.idle": "2024-11-15T06:34:33.715173Z",
     "shell.execute_reply": "2024-11-15T06:34:33.714463Z",
     "shell.execute_reply.started": "2024-11-15T06:34:33.690999Z"
    },
    "id": "aBAnf_nlqsbV",
    "trusted": true
   },
   "outputs": [],
   "source": [
    "s=np.save('ground truth',y)"
   ]
  },
  {
   "cell_type": "code",
   "execution_count": null,
   "metadata": {
    "execution": {
     "iopub.execute_input": "2024-11-15T06:34:33.719276Z",
     "iopub.status.busy": "2024-11-15T06:34:33.719001Z",
     "iopub.status.idle": "2024-11-15T06:34:33.800790Z",
     "shell.execute_reply": "2024-11-15T06:34:33.800064Z",
     "shell.execute_reply.started": "2024-11-15T06:34:33.719250Z"
    },
    "id": "QG1Q-Fs0qsbV",
    "trusted": true
   },
   "outputs": [],
   "source": [
    "x=np.absolute(x)\n"
   ]
  },
  {
   "cell_type": "code",
   "execution_count": null,
   "metadata": {
    "execution": {
     "iopub.execute_input": "2024-11-15T06:34:33.803974Z",
     "iopub.status.busy": "2024-11-15T06:34:33.803692Z",
     "iopub.status.idle": "2024-11-15T06:34:34.312997Z",
     "shell.execute_reply": "2024-11-15T06:34:34.312208Z",
     "shell.execute_reply.started": "2024-11-15T06:34:33.803948Z"
    },
    "id": "erc1nAqMqsbW",
    "outputId": "c7b89656-b268-4630-cbef-09e8ea34d0e1",
    "trusted": true
   },
   "outputs": [
    {
     "data": {
      "image/png": "[encoded data removed]",
      "text/plain": [
       "<Figure size 432x288 with 2 Axes>"
      ]
     },
     "metadata": {
      "needs_background": "light"
     },
     "output_type": "display_data"
    }
   ],
   "source": [
    "car=np.asarray(car)\n",
    "np.shape(car)\n",
    "car=np.absolute(car)\n",
    "drone=np.absolute(drone)\n",
    "people=np.absolute(people)\n",
    "import seaborn as sns\n",
    "ax = sns.heatmap(car[600],vmin=70,vmax=140)"
   ]
  },
  {
   "cell_type": "code",
   "execution_count": null,
   "metadata": {
    "execution": {
     "iopub.execute_input": "2024-11-15T06:34:34.314675Z",
     "iopub.status.busy": "2024-11-15T06:34:34.314355Z",
     "iopub.status.idle": "2024-11-15T06:34:34.612553Z",
     "shell.execute_reply": "2024-11-15T06:34:34.611606Z",
     "shell.execute_reply.started": "2024-11-15T06:34:34.314634Z"
    },
    "id": "uGtQvyMzqsbW",
    "outputId": "544c70ef-a2b9-46a4-99e0-c30b43425056",
    "trusted": true
   },
   "outputs": [
    {
     "data": {
      "image/png": "[encoded data removed]",
      "text/plain": [
       "<Figure size 432x288 with 2 Axes>"
      ]
     },
     "metadata": {
      "needs_background": "light"
     },
     "output_type": "display_data"
    }
   ],
   "source": [
    "ay=sns.heatmap(people[500],vmin=70,vmax=140)"
   ]
  },
  {
   "cell_type": "code",
   "execution_count": null,
   "metadata": {
    "execution": {
     "iopub.execute_input": "2024-11-15T06:34:34.614509Z",
     "iopub.status.busy": "2024-11-15T06:34:34.614067Z",
     "iopub.status.idle": "2024-11-15T06:34:34.898592Z",
     "shell.execute_reply": "2024-11-15T06:34:34.897604Z",
     "shell.execute_reply.started": "2024-11-15T06:34:34.614461Z"
    },
    "id": "3VEUgKtMqsbW",
    "outputId": "3ebfdaff-440e-4aa8-e97f-c071f87f6e7e",
    "trusted": true
   },
   "outputs": [
    {
     "data": {
      "image/png": "[encoded data removed]",
      "text/plain": [
       "<Figure size 432x288 with 2 Axes>"
      ]
     },
     "metadata": {
      "needs_background": "light"
     },
     "output_type": "display_data"
    }
   ],
   "source": [
    "ay=sns.heatmap(drone[500],vmin=70,vmax=140)"
   ]
  },
  {
   "cell_type": "code",
   "execution_count": null,
   "metadata": {
    "execution": {
     "iopub.execute_input": "2024-11-15T06:34:34.900693Z",
     "iopub.status.busy": "2024-11-15T06:34:34.900240Z",
     "iopub.status.idle": "2024-11-15T06:34:34.906524Z",
     "shell.execute_reply": "2024-11-15T06:34:34.905773Z",
     "shell.execute_reply.started": "2024-11-15T06:34:34.900648Z"
    },
    "id": "lAufG_8fqsbX",
    "outputId": "5558f246-ed50-4189-8058-3419d594b699",
    "trusted": true
   },
   "outputs": [
    {
     "data": {
      "text/plain": [
       "(17485, 11, 61)"
      ]
     },
     "execution_count": 10,
     "metadata": {},
     "output_type": "execute_result"
    }
   ],
   "source": [
    "np.shape(x)"
   ]
  },
  {
   "cell_type": "code",
   "execution_count": null,
   "metadata": {
    "execution": {
     "iopub.execute_input": "2024-11-15T06:34:34.907994Z",
     "iopub.status.busy": "2024-11-15T06:34:34.907725Z",
     "iopub.status.idle": "2024-11-15T06:34:34.936742Z",
     "shell.execute_reply": "2024-11-15T06:34:34.936044Z",
     "shell.execute_reply.started": "2024-11-15T06:34:34.907967Z"
    },
    "id": "DJYnEm8-qsbX",
    "outputId": "aeb12922-e806-4e3b-d5e6-9af05a2f553b",
    "trusted": true
   },
   "outputs": [
    {
     "data": {
      "text/plain": [
       "(17485, 3)"
      ]
     },
     "execution_count": 11,
     "metadata": {},
     "output_type": "execute_result"
    }
   ],
   "source": [
    "np.shape(y)"
   ]
  },
  {
   "cell_type": "code",
   "execution_count": null,
   "metadata": {
    "execution": {
     "iopub.execute_input": "2024-11-15T06:34:34.938309Z",
     "iopub.status.busy": "2024-11-15T06:34:34.937960Z",
     "iopub.status.idle": "2024-11-15T06:34:34.946088Z",
     "shell.execute_reply": "2024-11-15T06:34:34.945196Z",
     "shell.execute_reply.started": "2024-11-15T06:34:34.938280Z"
    },
    "id": "lnu469TdqsbX",
    "outputId": "a8fe080c-ec71-40a8-fbf2-0a42ac1bcb07",
    "trusted": true
   },
   "outputs": [
    {
     "name": "stdout",
     "output_type": "stream",
     "text": [
      "[1, 0, 0]\n"
     ]
    }
   ],
   "source": [
    "print(y[0])"
   ]
  },
  {
   "cell_type": "code",
   "execution_count": null,
   "metadata": {
    "execution": {
     "iopub.execute_input": "2024-11-15T06:34:34.947375Z",
     "iopub.status.busy": "2024-11-15T06:34:34.947094Z",
     "iopub.status.idle": "2024-11-15T06:34:35.083324Z",
     "shell.execute_reply": "2024-11-15T06:34:35.082477Z",
     "shell.execute_reply.started": "2024-11-15T06:34:34.947349Z"
    },
    "id": "yYwr4zwLqsbY",
    "trusted": true
   },
   "outputs": [],
   "source": [
    "from sklearn.model_selection import train_test_split\n",
    "\n",
    "# Split the dataset into training and test sets\n",
    "# test_size=0.2 means 20% of the data will be used for testing\n",
    "# random_state ensures reproducibility of the split\n",
    "x_train, x_test, y_train, y_test = train_test_split(x, y, test_size=0.2, random_state=42)\n",
    "\n",
    "# Further split the training set into training and validation sets\n",
    "# test_size=0.125 means 12.5% of the original training data will be used for validation\n",
    "# This results in 70% training, 10% validation, and 20% testing of the total data\n",
    "x_train, x_val, y_train, y_val = train_test_split(x_train, y_train, test_size=0.125, random_state=42)\n"
   ]
  },
  {
   "cell_type": "code",
   "execution_count": null,
   "metadata": {
    "execution": {
     "iopub.execute_input": "2024-11-15T07:22:35.380593Z",
     "iopub.status.busy": "2024-11-15T07:22:35.380222Z",
     "iopub.status.idle": "2024-11-15T07:22:35.408852Z",
     "shell.execute_reply": "2024-11-15T07:22:35.407896Z",
     "shell.execute_reply.started": "2024-11-15T07:22:35.380562Z"
    },
    "id": "O84AVahiqsbY",
    "trusted": true
   },
   "outputs": [],
   "source": [
    "# Convert training, testing, and validation data lists to NumPy arrays\n",
    "# This ensures compatibility with machine learning models that require NumPy arrays\n",
    "x_train = np.asarray(x_train)\n",
    "y_train = np.asarray(y_train)\n",
    "x_test = np.asarray(x_test)\n",
    "y_test = np.asarray(y_test)\n",
    "x_val = np.asarray(x_val)\n",
    "y_val = np.asarray(y_val)\n",
    "\n",
    "# Reshape the data to add an additional dimension for channels\n",
    "# Assuming the input data has dimensions (11, 61) and needs to be reshaped to (11, 61, 1)\n",
    "# The -1 automatically calculates the number of samples\n",
    "x_train = np.reshape(x_train, [-1, 11, 61, 1])  # Reshape training data\n",
    "x_test = np.reshape(x_test, [-1, 11, 61, 1])    # Reshape testing data\n",
    "x_val = np.reshape(x_val, [-1, 11, 61, 1])      # Reshape validation data\n"
   ]
  },
  {
   "cell_type": "code",
   "execution_count": null,
   "metadata": {
    "execution": {
     "iopub.execute_input": "2024-11-15T07:22:38.359329Z",
     "iopub.status.busy": "2024-11-15T07:22:38.358964Z",
     "iopub.status.idle": "2024-11-15T07:22:38.364514Z",
     "shell.execute_reply": "2024-11-15T07:22:38.363578Z",
     "shell.execute_reply.started": "2024-11-15T07:22:38.359296Z"
    },
    "id": "cKQEKsSvqsbY",
    "outputId": "e808ae84-f81a-40a3-a4cb-7e00d6164b31",
    "trusted": true
   },
   "outputs": [
    {
     "name": "stdout",
     "output_type": "stream",
     "text": [
      "(12239, 11, 61, 1)\n",
      "(1749, 11, 61, 1)\n",
      "(3497, 11, 61, 1)\n"
     ]
    }
   ],
   "source": [
    "print(x_train.shape)# print training data length\n",
    "print(x_val.shape)# print validation data length\n",
    "print(x_test.shape)# print test data length"
   ]
  },
  {
   "cell_type": "markdown",
   "metadata": {
    "id": "biATK9o5qsbY"
   },
   "source": [
    "# Model Architecture"
   ]
  },
  {
   "cell_type": "code",
   "execution_count": null,
   "metadata": {
    "execution": {
     "iopub.execute_input": "2024-11-15T07:22:41.273113Z",
     "iopub.status.busy": "2024-11-15T07:22:41.272781Z",
     "iopub.status.idle": "2024-11-15T07:22:41.455911Z",
     "shell.execute_reply": "2024-11-15T07:22:41.454985Z",
     "shell.execute_reply.started": "2024-11-15T07:22:41.273084Z"
    },
    "id": "lOKKwoHZqsbY",
    "outputId": "74e3b0c7-cc91-43e1-8c7e-b351f63943eb",
    "trusted": true
   },
   "outputs": [
    {
     "name": "stdout",
     "output_type": "stream",
     "text": [
      "Model: \"sequential_2\"\n",
      "_________________________________________________________________\n",
      "Layer (type)                 Output Shape              Param #   \n",
      "=================================================================\n",
      "conv2d_100 (Conv2D)          (None, 11, 61, 32)        320       \n",
      "_________________________________________________________________\n",
      "batch_normalization_100 (Bat (None, 11, 61, 32)        128       \n",
      "_________________________________________________________________\n",
      "max_pooling2d_8 (MaxPooling2 (None, 5, 30, 32)         0         \n",
      "_________________________________________________________________\n",
      "conv2d_101 (Conv2D)          (None, 5, 30, 64)         18496     \n",
      "_________________________________________________________________\n",
      "batch_normalization_101 (Bat (None, 5, 30, 64)         256       \n",
      "_________________________________________________________________\n",
      "max_pooling2d_9 (MaxPooling2 (None, 2, 15, 64)         0         \n",
      "_________________________________________________________________\n",
      "conv2d_102 (Conv2D)          (None, 2, 15, 128)        73856     \n",
      "_________________________________________________________________\n",
      "batch_normalization_102 (Bat (None, 2, 15, 128)        512       \n",
      "_________________________________________________________________\n",
      "flatten_2 (Flatten)          (None, 3840)              0         \n",
      "_________________________________________________________________\n",
      "dense_8 (Dense)              (None, 128)               491648    \n",
      "_________________________________________________________________\n",
      "dropout_6 (Dropout)          (None, 128)               0         \n",
      "_________________________________________________________________\n",
      "dense_9 (Dense)              (None, 64)                8256      \n",
      "_________________________________________________________________\n",
      "dropout_7 (Dropout)          (None, 64)                0         \n",
      "_________________________________________________________________\n",
      "dense_10 (Dense)             (None, 3)                 195       \n",
      "=================================================================\n",
      "Total params: 593,667\n",
      "Trainable params: 593,219\n",
      "Non-trainable params: 448\n",
      "_________________________________________________________________\n",
      "None\n"
     ]
    }
   ],
   "source": [
    "'''In this code, we are building a novel Convolutional Neural Network (CNN) using Keras for multi-class classification (3 classes) car, people and drones.\n",
    "The model starts with convolutional layers for feature extraction, followed by batch normalization and max-pooling to stabilize training and reduce spatial dimensions.\n",
    "After the convolutional layers, we flatten the feature maps and use dense (fully connected) layers with dropout for regularization, ending with a softmax layer for probabilistic outputs.\n",
    "Finally, we have compiled the model with categorical crossentropy as the loss function and Adam(adapyive) optimizer to train efficiently.'''\n",
    "model = k.Sequential()\n",
    "model.add(tf.keras.Input(shape=(11, 61, 1)))\n",
    "\n",
    "# 1st Block: Convolution + BatchNorm + MaxPooling\n",
    "model.add(k.layers.Conv2D(32, (3, 3), padding='same', activation='relu'))#32 filters of size 3X3\n",
    "model.add(k.layers.BatchNormalization())\n",
    "model.add(k.layers.MaxPooling2D(pool_size=(2, 2)))  # Reduces dimensionality\n",
    "\n",
    "# 2nd Block: Convolution + BatchNorm + MaxPooling\n",
    "model.add(k.layers.Conv2D(64, (3, 3), padding='same', activation='relu'))#64 filters of size 3X3\n",
    "model.add(k.layers.BatchNormalization())\n",
    "model.add(k.layers.MaxPooling2D(pool_size=(2, 2)))\n",
    "\n",
    "# 3rd Block: Convolution + BatchNorm\n",
    "model.add(k.layers.Conv2D(128, (3, 3), padding='same', activation='relu'))#128 filters of size 3X3\n",
    "model.add(k.layers.BatchNormalization())\n",
    "\n",
    "# Flatten before Dense layers\n",
    "model.add(k.layers.Flatten())\n",
    "\n",
    "# Fully Connected Layers + Dropout\n",
    "model.add(k.layers.Dense(128, activation='relu', kernel_regularizer=tf.keras.regularizers.l2(0.001)))\n",
    "model.add(k.layers.Dropout(0.5))#prevents overitting by randomly dropping 20 percent of the neurons\n",
    "\n",
    "model.add(k.layers.Dense(64, activation='relu', kernel_regularizer=tf.keras.regularizers.l2(0.001)))\n",
    "model.add(k.layers.Dropout(0.3))\n",
    "\n",
    "# Output Layer\n",
    "model.add(k.layers.Dense(3, activation='softmax'))\n",
    "\n",
    "# Compile the model\n",
    "model.compile(loss='categorical_crossentropy', optimizer='adam', metrics=['accuracy'], )\n",
    "\n",
    "print(model.summary())\n"
   ]
  },
  {
   "cell_type": "code",
   "execution_count": null,
   "metadata": {
    "execution": {
     "iopub.execute_input": "2024-11-15T07:17:14.221315Z",
     "iopub.status.busy": "2024-11-15T07:17:14.220973Z",
     "iopub.status.idle": "2024-11-15T07:17:21.644512Z",
     "shell.execute_reply": "2024-11-15T07:17:21.643470Z",
     "shell.execute_reply.started": "2024-11-15T07:17:14.221285Z"
    },
    "id": "h67EQYakqsbZ",
    "outputId": "770400ca-396f-4f2a-e7c2-e817ca681b8c",
    "trusted": true
   },
   "outputs": [
    {
     "name": "stdout",
     "output_type": "stream",
     "text": [
      "Requirement already satisfied: visualkeras in /opt/conda/lib/python3.7/site-packages (0.1.3)\n",
      "Requirement already satisfied: pillow>=6.2.0 in /opt/conda/lib/python3.7/site-packages (from visualkeras) (7.2.0)\n",
      "Requirement already satisfied: numpy>=1.18.1 in /opt/conda/lib/python3.7/site-packages (from visualkeras) (1.18.5)\n",
      "Requirement already satisfied: aggdraw>=1.3.11 in /opt/conda/lib/python3.7/site-packages (from visualkeras) (1.3.16)\n",
      "\u001b[33mWARNING: You are using pip version 20.2.3; however, version 24.0 is available.\n",
      "You should consider upgrading via the '/opt/conda/bin/python3.7 -m pip install --upgrade pip' command.\u001b[0m\n"
     ]
    }
   ],
   "source": [
    "!pip install visualkeras"
   ]
  },
  {
   "cell_type": "code",
   "execution_count": null,
   "metadata": {
    "execution": {
     "iopub.execute_input": "2024-11-15T07:22:46.396197Z",
     "iopub.status.busy": "2024-11-15T07:22:46.395820Z",
     "iopub.status.idle": "2024-11-15T07:22:46.425758Z",
     "shell.execute_reply": "2024-11-15T07:22:46.424816Z",
     "shell.execute_reply.started": "2024-11-15T07:22:46.396148Z"
    },
    "id": "A-a5HjoAqsbZ",
    "outputId": "cf5951bb-82a7-4349-afa0-a38df108bed0",
    "trusted": true
   },
   "outputs": [
    {
     "data": {
      "image/png": "[encoded data removed]",
      "text/plain": [
       "<PIL.Image.Image image mode=RGBA size=805x259 at 0x7B732019C890>"
      ]
     },
     "execution_count": 64,
     "metadata": {},
     "output_type": "execute_result"
    }
   ],
   "source": [
    "import visualkeras#visualising the model\n",
    "visualkeras.layered_view(model)"
   ]
  },
  {
   "cell_type": "markdown",
   "metadata": {
    "id": "cCTXsEtmqsbZ"
   },
   "source": [
    "# Training and Evaluation"
   ]
  },
  {
   "cell_type": "code",
   "execution_count": null,
   "metadata": {
    "execution": {
     "iopub.execute_input": "2024-11-15T07:22:49.331321Z",
     "iopub.status.busy": "2024-11-15T07:22:49.330964Z",
     "iopub.status.idle": "2024-11-15T07:23:16.483276Z",
     "shell.execute_reply": "2024-11-15T07:23:16.482494Z",
     "shell.execute_reply.started": "2024-11-15T07:22:49.331291Z"
    },
    "id": "5400vvbxqsbZ",
    "outputId": "d62ac4d6-0331-4db7-d4b6-7f062b1ecca9",
    "trusted": true
   },
   "outputs": [
    {
     "name": "stdout",
     "output_type": "stream",
     "text": [
      "Epoch 1/50\n",
      "383/383 [==============================] - 2s 4ms/step - loss: 0.6960 - accuracy: 0.8633 - val_loss: 4.1644 - val_accuracy: 0.3408\n",
      "Epoch 2/50\n",
      "383/383 [==============================] - 1s 4ms/step - loss: 0.4504 - accuracy: 0.9307 - val_loss: 0.5027 - val_accuracy: 0.8845\n",
      "Epoch 3/50\n",
      "383/383 [==============================] - 1s 4ms/step - loss: 0.3491 - accuracy: 0.9439 - val_loss: 0.3153 - val_accuracy: 0.9405\n",
      "Epoch 4/50\n",
      "383/383 [==============================] - 1s 3ms/step - loss: 0.2961 - accuracy: 0.9493 - val_loss: 0.3242 - val_accuracy: 0.9285\n",
      "Epoch 5/50\n",
      "383/383 [==============================] - 1s 4ms/step - loss: 0.2521 - accuracy: 0.9553 - val_loss: 0.2506 - val_accuracy: 0.9514\n",
      "Epoch 6/50\n",
      "383/383 [==============================] - 1s 3ms/step - loss: 0.2224 - accuracy: 0.9595 - val_loss: 0.3044 - val_accuracy: 0.9308\n",
      "Epoch 7/50\n",
      "383/383 [==============================] - 1s 4ms/step - loss: 0.1922 - accuracy: 0.9645 - val_loss: 0.2211 - val_accuracy: 0.9508\n",
      "Epoch 8/50\n",
      "383/383 [==============================] - 1s 4ms/step - loss: 0.1782 - accuracy: 0.9677 - val_loss: 0.3522 - val_accuracy: 0.9085\n",
      "Epoch 9/50\n",
      "383/383 [==============================] - 1s 3ms/step - loss: 0.1683 - accuracy: 0.9704 - val_loss: 0.2446 - val_accuracy: 0.9354\n",
      "Epoch 10/50\n",
      "383/383 [==============================] - 1s 4ms/step - loss: 0.1666 - accuracy: 0.9712 - val_loss: 0.2436 - val_accuracy: 0.9445\n",
      "Epoch 11/50\n",
      "383/383 [==============================] - 1s 4ms/step - loss: 0.1504 - accuracy: 0.9741 - val_loss: 0.3088 - val_accuracy: 0.9240\n",
      "Epoch 12/50\n",
      "383/383 [==============================] - 1s 4ms/step - loss: 0.1449 - accuracy: 0.9743 - val_loss: 0.2888 - val_accuracy: 0.9240\n",
      "Epoch 13/50\n",
      "383/383 [==============================] - 1s 4ms/step - loss: 0.1477 - accuracy: 0.9766 - val_loss: 0.2816 - val_accuracy: 0.9360\n",
      "Epoch 14/50\n",
      "383/383 [==============================] - 1s 4ms/step - loss: 0.1304 - accuracy: 0.9790 - val_loss: 0.3117 - val_accuracy: 0.9365\n",
      "Epoch 15/50\n",
      "383/383 [==============================] - 1s 4ms/step - loss: 0.1249 - accuracy: 0.9823 - val_loss: 0.4702 - val_accuracy: 0.9057\n",
      "Epoch 16/50\n",
      "383/383 [==============================] - 1s 4ms/step - loss: 0.1215 - accuracy: 0.9841 - val_loss: 0.2504 - val_accuracy: 0.9497\n",
      "Epoch 17/50\n",
      "383/383 [==============================] - 1s 3ms/step - loss: 0.1166 - accuracy: 0.9855 - val_loss: 0.4441 - val_accuracy: 0.9280\n",
      "Epoch 18/50\n",
      "383/383 [==============================] - 1s 4ms/step - loss: 0.1063 - accuracy: 0.9862 - val_loss: 0.3017 - val_accuracy: 0.9325\n",
      "Epoch 19/50\n",
      "383/383 [==============================] - 1s 4ms/step - loss: 0.1041 - accuracy: 0.9880 - val_loss: 0.3586 - val_accuracy: 0.9291\n"
     ]
    }
   ],
   "source": [
    "from tensorflow.keras.callbacks import EarlyStopping\n",
    "early_stopping = EarlyStopping(monitor='val_loss', patience=12, restore_best_weights=True)#if the error doesn't change for 12 epochs we stop\n",
    "history = model.fit(x_train, y_train, epochs=50, batch_size=32, validation_data=(x_val, y_val), callbacks=[early_stopping])"
   ]
  },
  {
   "cell_type": "code",
   "execution_count": null,
   "metadata": {
    "execution": {
     "iopub.execute_input": "2024-11-15T07:23:30.811352Z",
     "iopub.status.busy": "2024-11-15T07:23:30.811001Z",
     "iopub.status.idle": "2024-11-15T07:23:30.816063Z",
     "shell.execute_reply": "2024-11-15T07:23:30.815289Z",
     "shell.execute_reply.started": "2024-11-15T07:23:30.811322Z"
    },
    "id": "G1dnagL8qsbZ",
    "trusted": true
   },
   "outputs": [],
   "source": [
    "# Training and validation loss and accuracy\n",
    "train_loss = history.history['loss']\n",
    "val_loss = history.history['val_loss']\n",
    "train_acc = history.history['accuracy']\n",
    "val_acc = history.history['val_accuracy']\n"
   ]
  },
  {
   "cell_type": "code",
   "execution_count": null,
   "metadata": {
    "execution": {
     "iopub.execute_input": "2024-11-15T07:23:33.004647Z",
     "iopub.status.busy": "2024-11-15T07:23:33.004303Z",
     "iopub.status.idle": "2024-11-15T07:23:33.381456Z",
     "shell.execute_reply": "2024-11-15T07:23:33.380300Z",
     "shell.execute_reply.started": "2024-11-15T07:23:33.004616Z"
    },
    "id": "JP3wscpsqsba",
    "outputId": "22feb22e-855f-437f-c18b-466e000ec51c",
    "trusted": true
   },
   "outputs": [
    {
     "data": {
      "image/png": "[encoded data removed]",
      "text/plain": [
       "<Figure size 432x288 with 1 Axes>"
      ]
     },
     "metadata": {
      "needs_background": "light"
     },
     "output_type": "display_data"
    },
    {
     "data": {
      "image/png": "[encoded data removed]",
      "text/plain": [
       "<Figure size 432x288 with 1 Axes>"
      ]
     },
     "metadata": {
      "needs_background": "light"
     },
     "output_type": "display_data"
    }
   ],
   "source": [
    "import matplotlib.pyplot as plt\n",
    "\n",
    "# Plot the loss curves\n",
    "plt.plot(history.history['loss'], label='Training Loss')\n",
    "plt.plot(history.history['val_loss'], label='Validation Loss')\n",
    "plt.title('Training and Validation Loss')\n",
    "plt.xlabel('Epochs')\n",
    "plt.ylabel('Loss')\n",
    "plt.legend()\n",
    "plt.show()\n",
    "\n",
    "# Plot the accuracy curves\n",
    "plt.plot(history.history['accuracy'], label='Training Accuracy')\n",
    "plt.plot(history.history['val_accuracy'], label='Validation Accuracy')\n",
    "plt.title('Training and Validation Accuracy')\n",
    "plt.xlabel('Epochs')\n",
    "plt.ylabel('Accuracy')\n",
    "plt.legend()\n",
    "plt.show()\n"
   ]
  },
  {
   "cell_type": "code",
   "execution_count": null,
   "metadata": {
    "execution": {
     "iopub.execute_input": "2024-11-15T07:24:44.230747Z",
     "iopub.status.busy": "2024-11-15T07:24:44.230375Z",
     "iopub.status.idle": "2024-11-15T07:24:44.553129Z",
     "shell.execute_reply": "2024-11-15T07:24:44.552281Z",
     "shell.execute_reply.started": "2024-11-15T07:24:44.230708Z"
    },
    "id": "-fO0Pgl3qsba",
    "outputId": "6494a754-3a48-41b3-861a-ef0d26441130",
    "trusted": true
   },
   "outputs": [
    {
     "name": "stdout",
     "output_type": "stream",
     "text": [
      "110/110 [==============================] - 0s 2ms/step - loss: 0.2155 - accuracy: 0.9511\n"
     ]
    },
    {
     "data": {
      "text/plain": [
       "[0.21550501883029938, 0.9511009454727173]"
      ]
     },
     "execution_count": 68,
     "metadata": {},
     "output_type": "execute_result"
    }
   ],
   "source": [
    "history.model.evaluate(x_test,y_test)"
   ]
  },
  {
   "cell_type": "code",
   "execution_count": null,
   "metadata": {
    "execution": {
     "iopub.execute_input": "2024-11-15T07:27:56.262872Z",
     "iopub.status.busy": "2024-11-15T07:27:56.262514Z",
     "iopub.status.idle": "2024-11-15T07:27:56.576368Z",
     "shell.execute_reply": "2024-11-15T07:27:56.575663Z",
     "shell.execute_reply.started": "2024-11-15T07:27:56.262826Z"
    },
    "id": "MMIVaMgwqsba",
    "outputId": "846f4261-b13b-4796-a78a-8b82696b625b",
    "trusted": true
   },
   "outputs": [
    {
     "data": {
      "image/png": "[encoded data removed]",
      "text/plain": [
       "<Figure size 432x288 with 2 Axes>"
      ]
     },
     "metadata": {
      "needs_background": "light"
     },
     "output_type": "display_data"
    }
   ],
   "source": [
    "y_pred=history.model.predict(x_test)#model prediction\n",
    "y_pred_classes = np.argmax(y_pred, axis=1)\n",
    "y_test_classes = np.argmax(y_test, axis=1)\n",
    "from sklearn.metrics import confusion_matrix, ConfusionMatrixDisplay\n",
    "import matplotlib.pyplot as plt\n",
    "#confusion matrix\n",
    "cm = confusion_matrix(y_test_classes, y_pred_classes)\n",
    "disp = ConfusionMatrixDisplay(confusion_matrix=cm, display_labels=np.unique(y_test_classes))\n",
    "disp.plot(cmap=plt.cm.Blues)\n",
    "\n",
    "# Show the plot\n",
    "plt.title(\"Confusion Matrix\")\n",
    "plt.show()"
   ]
  },
  {
   "cell_type": "code",
   "execution_count": null,
   "metadata": {
    "execution": {
     "iopub.execute_input": "2024-11-15T07:28:56.430949Z",
     "iopub.status.busy": "2024-11-15T07:28:56.430616Z",
     "iopub.status.idle": "2024-11-15T07:28:56.445816Z",
     "shell.execute_reply": "2024-11-15T07:28:56.444615Z",
     "shell.execute_reply.started": "2024-11-15T07:28:56.430921Z"
    },
    "id": "Q1ViVJZSqsba",
    "outputId": "853b8d90-a73c-4648-dbb5-03fa99a2d380",
    "trusted": true
   },
   "outputs": [
    {
     "name": "stdout",
     "output_type": "stream",
     "text": [
      "Precision: 0.9529733901517758\n",
      "Recall: 0.9511009436659994\n",
      "F1 Score: 0.9510998601377184\n"
     ]
    }
   ],
   "source": [
    "from sklearn.metrics import precision_score, recall_score, f1_score\n",
    "\n",
    "# Compute precision, recall, and F1 scores\n",
    "precision = precision_score(y_test_classes, y_pred_classes, average='weighted')\n",
    "recall = recall_score(y_test_classes, y_pred_classes, average='weighted')\n",
    "f1 = f1_score(y_test_classes, y_pred_classes, average='weighted')\n",
    "#print metrics\n",
    "print(\"Precision:\", precision)\n",
    "print(\"Recall:\", recall)\n",
    "print(\"F1 Score:\", f1)\n"
   ]
  },
  {
   "cell_type": "markdown",
   "metadata": {
    "id": "eq3-za9Gqsba"
   },
   "source": [
    "# Fine-tuning using different models"
   ]
  },
  {
   "cell_type": "markdown",
   "metadata": {
    "id": "jBlPm9u7qsba"
   },
   "source": [
    "# MobileNetV2 "
   ]
  },
  {
   "cell_type": "code",
   "execution_count": null,
   "metadata": {
    "execution": {
     "iopub.execute_input": "2024-11-15T06:35:34.354735Z",
     "iopub.status.busy": "2024-11-15T06:35:34.354271Z",
     "iopub.status.idle": "2024-11-15T06:35:34.387565Z",
     "shell.execute_reply": "2024-11-15T06:35:34.386470Z",
     "shell.execute_reply.started": "2024-11-15T06:35:34.354690Z"
    },
    "id": "qyVRCnxSqsbb",
    "trusted": true
   },
   "outputs": [],
   "source": [
    "preprocess_input = tf.keras.applications.mobilenet_v2.preprocess_input\n",
    "x_preprocessed = preprocess_input(x)"
   ]
  },
  {
   "cell_type": "code",
   "execution_count": null,
   "metadata": {
    "execution": {
     "iopub.execute_input": "2024-11-15T06:35:34.389322Z",
     "iopub.status.busy": "2024-11-15T06:35:34.389026Z",
     "iopub.status.idle": "2024-11-15T06:35:34.466355Z",
     "shell.execute_reply": "2024-11-15T06:35:34.465501Z",
     "shell.execute_reply.started": "2024-11-15T06:35:34.389293Z"
    },
    "id": "iAPJi0kVqsbb",
    "trusted": true
   },
   "outputs": [],
   "source": [
    "from sklearn.model_selection import train_test_split\n",
    "#70% training data, 20% test data, 10% validation\n",
    "x_train,x_test,y_train,y_test=train_test_split(x_preprocessed, y, test_size=0.2, random_state=42)\n",
    "x_train, x_val, y_train, y_val = train_test_split(x_train, y_train, test_size=0.125, random_state=42)\n"
   ]
  },
  {
   "cell_type": "code",
   "execution_count": null,
   "metadata": {
    "execution": {
     "iopub.execute_input": "2024-11-15T06:35:34.467784Z",
     "iopub.status.busy": "2024-11-15T06:35:34.467491Z",
     "iopub.status.idle": "2024-11-15T06:35:34.471858Z",
     "shell.execute_reply": "2024-11-15T06:35:34.471135Z",
     "shell.execute_reply.started": "2024-11-15T06:35:34.467754Z"
    },
    "id": "Nq-UNPnrqsbb",
    "outputId": "1ade5f78-09e6-45eb-fba4-38fc41084575",
    "trusted": true
   },
   "outputs": [
    {
     "name": "stdout",
     "output_type": "stream",
     "text": [
      "(12239, 11, 61)\n"
     ]
    }
   ],
   "source": [
    "print(x_train.shape)"
   ]
  },
  {
   "cell_type": "code",
   "execution_count": null,
   "metadata": {
    "execution": {
     "iopub.execute_input": "2024-11-15T06:35:34.473395Z",
     "iopub.status.busy": "2024-11-15T06:35:34.473056Z",
     "iopub.status.idle": "2024-11-15T06:35:38.389785Z",
     "shell.execute_reply": "2024-11-15T06:35:38.388942Z",
     "shell.execute_reply.started": "2024-11-15T06:35:34.473356Z"
    },
    "id": "OXvvxQjiqsbb",
    "outputId": "b00b5386-ae9c-4fbe-ab2a-a11a28d9abb0",
    "trusted": true
   },
   "outputs": [
    {
     "name": "stdout",
     "output_type": "stream",
     "text": [
      "Downloading data from https://storage.googleapis.com/tensorflow/keras-applications/mobilenet_v2/mobilenet_v2_weights_tf_dim_ordering_tf_kernels_1.0_224_no_top.h5\n",
      "9412608/9406464 [==============================] - 1s 0us/step\n",
      "Model: \"functional_1\"\n",
      "_________________________________________________________________\n",
      "Layer (type)                 Output Shape              Param #   \n",
      "=================================================================\n",
      "input_3 (InputLayer)         [(None, 11, 61, 1)]       0         \n",
      "_________________________________________________________________\n",
      "lambda (Lambda)              (None, 224, 224, 3)       0         \n",
      "_________________________________________________________________\n",
      "mobilenetv2_1.00_224 (Functi (None, 7, 7, 1280)        2257984   \n",
      "_________________________________________________________________\n",
      "global_average_pooling2d (Gl (None, 1280)              0         \n",
      "_________________________________________________________________\n",
      "dropout_2 (Dropout)          (None, 1280)              0         \n",
      "_________________________________________________________________\n",
      "dense_3 (Dense)              (None, 3)                 3843      \n",
      "=================================================================\n",
      "Total params: 2,261,827\n",
      "Trainable params: 3,843\n",
      "Non-trainable params: 2,257,984\n",
      "_________________________________________________________________\n"
     ]
    }
   ],
   "source": [
    "import tensorflow as tf\n",
    "from tensorflow.keras import layers, models\n",
    "from tensorflow.keras.applications import MobileNetV2\n",
    "'''The input data (originally 11x61x1) is resized to 224x224x3 to match MobileNetV2's input requirements by using a Lambda layer that both resizes and tiles the grayscale data into three channels.\n",
    "The resized input then passes through the pre-trained MobileNetV2 layers (with ImageNet weights frozen to preserve feature extraction).\n",
    "Afterward, a global average pooling layer reduces the feature maps, followed by a dropout layer to improve generalization. Finally, a softmax layer provides class probabilities for the three categories.\n",
    "The model is compiled with categorical cross-entropy loss for multi-class classification and optimized with Adam for efficient training.'''\n",
    "# Step 1: Load MobileNetV2 without the top layers\n",
    "base_model = MobileNetV2(\n",
    "    input_shape=(224, 224, 3),\n",
    "    include_top=False,\n",
    "    weights='imagenet'\n",
    ")\n",
    "base_model.trainable = False\n",
    "# Step 2: Custom input layer with resizing and tiling logic\n",
    "def resize_and_tile(inputs):\n",
    "    resized = tf.image.resize(inputs, (224, 224))  # Resize (11, 61, 1) to (224, 224, 1)\n",
    "    return tf.concat([resized] * 3, axis=-1)        # Tile to (224, 224, 3)\n",
    "\n",
    "input_layer = layers.Input(shape=(11, 61, 1))\n",
    "x = layers.Lambda(resize_and_tile)(input_layer)     # Use Lambda layer for custom resizing\n",
    "\n",
    "# Step 3: Pass the data through the MobileNetV2 base\n",
    "x = base_model(x, training=False)  # Keep pre-trained weights frozen initially\n",
    "x = layers.GlobalAveragePooling2D()(x)  # Pooling layer to flatten the features\n",
    "x = layers.Dropout(0.2)(x)  # Dropout for regularization\n",
    "output_layer = layers.Dense(3, activation='softmax')(x)  # 3-class output with softmax\n",
    "\n",
    "# Step 4: Define the final model\n",
    "f_model = models.Model(inputs=input_layer, outputs=output_layer)\n",
    "\n",
    "# Step 5: Compile the model with categorical_crossentropy for one-hot labels\n",
    "f_model.compile(\n",
    "    optimizer=tf.keras.optimizers.Adam(learning_rate=0.001),\n",
    "    loss='categorical_crossentropy',  # Use this for one-hot encoded labels\n",
    "    metrics=['accuracy']\n",
    ")\n",
    "\n",
    "f_model.summary()"
   ]
  },
  {
   "cell_type": "code",
   "execution_count": null,
   "metadata": {
    "execution": {
     "iopub.execute_input": "2024-11-15T06:35:38.391526Z",
     "iopub.status.busy": "2024-11-15T06:35:38.391242Z",
     "iopub.status.idle": "2024-11-15T06:35:38.707213Z",
     "shell.execute_reply": "2024-11-15T06:35:38.706382Z",
     "shell.execute_reply.started": "2024-11-15T06:35:38.391497Z"
    },
    "id": "deckovRGqsbb",
    "trusted": true
   },
   "outputs": [],
   "source": [
    "train_dataset = tf.data.Dataset.from_tensor_slices((x_train, y_train))\n",
    "train_dataset = train_dataset.batch(32).shuffle(buffer_size=1000) #batpch size trained in sizes of 32\n",
    "\n",
    "val_dataset = tf.data.Dataset.from_tensor_slices((x_val, y_val))\n",
    "val_dataset = val_dataset.batch(32)"
   ]
  },
  {
   "cell_type": "code",
   "execution_count": null,
   "metadata": {
    "execution": {
     "iopub.execute_input": "2024-11-15T06:35:38.708742Z",
     "iopub.status.busy": "2024-11-15T06:35:38.708453Z",
     "iopub.status.idle": "2024-11-15T06:44:06.924769Z",
     "shell.execute_reply": "2024-11-15T06:44:06.923919Z",
     "shell.execute_reply.started": "2024-11-15T06:35:38.708713Z"
    },
    "id": "LqrokR-Nqsbb",
    "outputId": "fb9ef430-9933-48fa-9d9d-1d0c4cee21d5",
    "trusted": true
   },
   "outputs": [
    {
     "name": "stdout",
     "output_type": "stream",
     "text": [
      "Epoch 1/50\n",
      "383/383 [==============================] - 11s 29ms/step - loss: 0.7241 - accuracy: 0.6717 - val_loss: 0.5298 - val_accuracy: 0.7764\n",
      "Epoch 2/50\n",
      "383/383 [==============================] - 10s 26ms/step - loss: 0.5463 - accuracy: 0.7655 - val_loss: 0.4746 - val_accuracy: 0.8073\n",
      "Epoch 3/50\n",
      "383/383 [==============================] - 10s 26ms/step - loss: 0.5095 - accuracy: 0.7837 - val_loss: 0.4533 - val_accuracy: 0.8056\n",
      "Epoch 4/50\n",
      "383/383 [==============================] - 10s 26ms/step - loss: 0.4880 - accuracy: 0.7918 - val_loss: 0.4411 - val_accuracy: 0.8216\n",
      "Epoch 5/50\n",
      "383/383 [==============================] - 10s 26ms/step - loss: 0.4728 - accuracy: 0.7976 - val_loss: 0.4239 - val_accuracy: 0.8239\n",
      "Epoch 6/50\n",
      "383/383 [==============================] - 10s 26ms/step - loss: 0.4658 - accuracy: 0.8063 - val_loss: 0.4125 - val_accuracy: 0.8290\n",
      "Epoch 7/50\n",
      "383/383 [==============================] - 10s 26ms/step - loss: 0.4599 - accuracy: 0.8079 - val_loss: 0.4164 - val_accuracy: 0.8313\n",
      "Epoch 8/50\n",
      "383/383 [==============================] - 10s 26ms/step - loss: 0.4489 - accuracy: 0.8122 - val_loss: 0.4040 - val_accuracy: 0.8336\n",
      "Epoch 9/50\n",
      "383/383 [==============================] - 10s 26ms/step - loss: 0.4449 - accuracy: 0.8089 - val_loss: 0.3955 - val_accuracy: 0.8411\n",
      "Epoch 10/50\n",
      "383/383 [==============================] - 10s 26ms/step - loss: 0.4398 - accuracy: 0.8162 - val_loss: 0.3928 - val_accuracy: 0.8405\n",
      "Epoch 11/50\n",
      "383/383 [==============================] - 10s 26ms/step - loss: 0.4385 - accuracy: 0.8139 - val_loss: 0.3889 - val_accuracy: 0.8411\n",
      "Epoch 12/50\n",
      "383/383 [==============================] - 10s 26ms/step - loss: 0.4332 - accuracy: 0.8167 - val_loss: 0.3850 - val_accuracy: 0.8439\n",
      "Epoch 13/50\n",
      "383/383 [==============================] - 10s 26ms/step - loss: 0.4343 - accuracy: 0.8187 - val_loss: 0.3887 - val_accuracy: 0.8433\n",
      "Epoch 14/50\n",
      "383/383 [==============================] - 10s 26ms/step - loss: 0.4311 - accuracy: 0.8165 - val_loss: 0.3811 - val_accuracy: 0.8462\n",
      "Epoch 15/50\n",
      "383/383 [==============================] - 10s 26ms/step - loss: 0.4275 - accuracy: 0.8195 - val_loss: 0.3789 - val_accuracy: 0.8473\n",
      "Epoch 16/50\n",
      "383/383 [==============================] - 10s 26ms/step - loss: 0.4257 - accuracy: 0.8203 - val_loss: 0.3884 - val_accuracy: 0.8330\n",
      "Epoch 17/50\n",
      "383/383 [==============================] - 10s 26ms/step - loss: 0.4218 - accuracy: 0.8228 - val_loss: 0.4020 - val_accuracy: 0.8090\n",
      "Epoch 18/50\n",
      "383/383 [==============================] - 10s 26ms/step - loss: 0.4228 - accuracy: 0.8199 - val_loss: 0.4144 - val_accuracy: 0.7976\n",
      "Epoch 19/50\n",
      "383/383 [==============================] - 10s 26ms/step - loss: 0.4208 - accuracy: 0.8182 - val_loss: 0.3761 - val_accuracy: 0.8456\n",
      "Epoch 20/50\n",
      "383/383 [==============================] - 10s 26ms/step - loss: 0.4214 - accuracy: 0.8207 - val_loss: 0.3750 - val_accuracy: 0.8433\n",
      "Epoch 21/50\n",
      "383/383 [==============================] - 10s 26ms/step - loss: 0.4213 - accuracy: 0.8199 - val_loss: 0.3755 - val_accuracy: 0.8485\n",
      "Epoch 22/50\n",
      "383/383 [==============================] - 10s 26ms/step - loss: 0.4136 - accuracy: 0.8220 - val_loss: 0.3711 - val_accuracy: 0.8491\n",
      "Epoch 23/50\n",
      "383/383 [==============================] - 10s 26ms/step - loss: 0.4163 - accuracy: 0.8215 - val_loss: 0.3860 - val_accuracy: 0.8353\n",
      "Epoch 24/50\n",
      "383/383 [==============================] - 10s 26ms/step - loss: 0.4094 - accuracy: 0.8247 - val_loss: 0.3691 - val_accuracy: 0.8473\n",
      "Epoch 25/50\n",
      "383/383 [==============================] - 10s 26ms/step - loss: 0.4089 - accuracy: 0.8270 - val_loss: 0.3913 - val_accuracy: 0.8107\n",
      "Epoch 26/50\n",
      "383/383 [==============================] - 10s 26ms/step - loss: 0.4097 - accuracy: 0.8241 - val_loss: 0.3715 - val_accuracy: 0.8411\n",
      "Epoch 27/50\n",
      "383/383 [==============================] - 10s 26ms/step - loss: 0.4096 - accuracy: 0.8265 - val_loss: 0.3774 - val_accuracy: 0.8393\n",
      "Epoch 28/50\n",
      "383/383 [==============================] - 10s 26ms/step - loss: 0.4122 - accuracy: 0.8256 - val_loss: 0.3667 - val_accuracy: 0.8491\n",
      "Epoch 29/50\n",
      "383/383 [==============================] - 10s 26ms/step - loss: 0.4046 - accuracy: 0.8286 - val_loss: 0.3728 - val_accuracy: 0.8353\n",
      "Epoch 30/50\n",
      "383/383 [==============================] - 10s 26ms/step - loss: 0.4094 - accuracy: 0.8238 - val_loss: 0.3750 - val_accuracy: 0.8422\n",
      "Epoch 31/50\n",
      "383/383 [==============================] - 10s 26ms/step - loss: 0.4081 - accuracy: 0.8271 - val_loss: 0.3793 - val_accuracy: 0.8319\n",
      "Epoch 32/50\n",
      "383/383 [==============================] - 10s 26ms/step - loss: 0.4042 - accuracy: 0.8291 - val_loss: 0.3710 - val_accuracy: 0.8382\n",
      "Epoch 33/50\n",
      "383/383 [==============================] - 10s 26ms/step - loss: 0.4041 - accuracy: 0.8276 - val_loss: 0.3744 - val_accuracy: 0.8428\n",
      "Epoch 34/50\n",
      "383/383 [==============================] - 10s 26ms/step - loss: 0.4059 - accuracy: 0.8286 - val_loss: 0.3962 - val_accuracy: 0.8067\n",
      "Epoch 35/50\n",
      "383/383 [==============================] - 10s 26ms/step - loss: 0.4047 - accuracy: 0.8260 - val_loss: 0.3762 - val_accuracy: 0.8285\n",
      "Epoch 36/50\n",
      "383/383 [==============================] - 10s 26ms/step - loss: 0.4006 - accuracy: 0.8296 - val_loss: 0.3689 - val_accuracy: 0.8428\n",
      "Epoch 37/50\n",
      "383/383 [==============================] - 10s 26ms/step - loss: 0.4056 - accuracy: 0.8316 - val_loss: 0.3687 - val_accuracy: 0.8433\n",
      "Epoch 38/50\n",
      "383/383 [==============================] - 10s 26ms/step - loss: 0.4006 - accuracy: 0.8333 - val_loss: 0.3623 - val_accuracy: 0.8491\n",
      "Epoch 39/50\n",
      "383/383 [==============================] - 10s 26ms/step - loss: 0.4068 - accuracy: 0.8257 - val_loss: 0.3835 - val_accuracy: 0.8370\n",
      "Epoch 40/50\n",
      "383/383 [==============================] - 10s 26ms/step - loss: 0.3991 - accuracy: 0.8282 - val_loss: 0.3651 - val_accuracy: 0.8462\n",
      "Epoch 41/50\n",
      "383/383 [==============================] - 10s 26ms/step - loss: 0.3998 - accuracy: 0.8321 - val_loss: 0.3799 - val_accuracy: 0.8268\n",
      "Epoch 42/50\n",
      "383/383 [==============================] - 10s 27ms/step - loss: 0.3978 - accuracy: 0.8307 - val_loss: 0.3632 - val_accuracy: 0.8439\n",
      "Epoch 43/50\n",
      "383/383 [==============================] - 10s 27ms/step - loss: 0.3993 - accuracy: 0.8306 - val_loss: 0.3619 - val_accuracy: 0.8519\n",
      "Epoch 44/50\n",
      "383/383 [==============================] - 10s 27ms/step - loss: 0.4006 - accuracy: 0.8254 - val_loss: 0.3636 - val_accuracy: 0.8479\n",
      "Epoch 45/50\n",
      "383/383 [==============================] - 10s 27ms/step - loss: 0.4019 - accuracy: 0.8301 - val_loss: 0.3643 - val_accuracy: 0.8479\n",
      "Epoch 46/50\n",
      "383/383 [==============================] - 10s 26ms/step - loss: 0.3960 - accuracy: 0.8297 - val_loss: 0.3611 - val_accuracy: 0.8491\n",
      "Epoch 47/50\n",
      "383/383 [==============================] - 10s 26ms/step - loss: 0.3932 - accuracy: 0.8317 - val_loss: 0.3651 - val_accuracy: 0.8451\n",
      "Epoch 48/50\n",
      "383/383 [==============================] - 10s 27ms/step - loss: 0.4010 - accuracy: 0.8296 - val_loss: 0.3783 - val_accuracy: 0.8279\n",
      "Epoch 49/50\n",
      "383/383 [==============================] - 10s 26ms/step - loss: 0.3922 - accuracy: 0.8309 - val_loss: 0.3741 - val_accuracy: 0.8319\n",
      "Epoch 50/50\n",
      "383/383 [==============================] - 10s 26ms/step - loss: 0.3935 - accuracy: 0.8302 - val_loss: 0.3788 - val_accuracy: 0.8250\n"
     ]
    }
   ],
   "source": [
    "history=f_model.fit(train_dataset, validation_data=val_dataset, epochs=50)"
   ]
  },
  {
   "cell_type": "code",
   "execution_count": null,
   "metadata": {
    "execution": {
     "iopub.execute_input": "2024-11-15T06:44:06.929648Z",
     "iopub.status.busy": "2024-11-15T06:44:06.929357Z",
     "iopub.status.idle": "2024-11-15T06:44:07.288751Z",
     "shell.execute_reply": "2024-11-15T06:44:07.287962Z",
     "shell.execute_reply.started": "2024-11-15T06:44:06.929620Z"
    },
    "id": "0bJNNQ9cqsbc",
    "outputId": "27945828-d145-485a-d096-39c2e4d7a225",
    "trusted": true
   },
   "outputs": [
    {
     "data": {
      "image/png": "[encoded data removed]",
      "text/plain": [
       "<Figure size 432x288 with 1 Axes>"
      ]
     },
     "metadata": {
      "needs_background": "light"
     },
     "output_type": "display_data"
    },
    {
     "data": {
      "image/png": "[encoded data removed]",
      "text/plain": [
       "<Figure size 432x288 with 1 Axes>"
      ]
     },
     "metadata": {
      "needs_background": "light"
     },
     "output_type": "display_data"
    }
   ],
   "source": [
    "# Training and validation loss and accuracy\n",
    "train_loss = history.history['loss']\n",
    "val_loss = history.history['val_loss']\n",
    "train_acc = history.history['accuracy']\n",
    "val_acc = history.history['val_accuracy']\n",
    "\n",
    "# Plot the loss curves\n",
    "plt.plot(history.history['loss'], label='Training Loss')\n",
    "plt.plot(history.history['val_loss'], label='Validation Loss')\n",
    "plt.title('Training and Validation Loss')\n",
    "plt.xlabel('Epochs')\n",
    "plt.ylabel('Loss')\n",
    "plt.legend()\n",
    "plt.show()\n",
    "\n",
    "# Plot the accuracy curves\n",
    "plt.plot(history.history['accuracy'], label='Training Accuracy')\n",
    "plt.plot(history.history['val_accuracy'], label='Validation Accuracy')\n",
    "plt.title('Training and Validation Accuracy')\n",
    "plt.xlabel('Epochs')\n",
    "plt.ylabel('Accuracy')\n",
    "plt.legend()\n",
    "plt.show()"
   ]
  },
  {
   "cell_type": "code",
   "execution_count": null,
   "metadata": {
    "execution": {
     "iopub.execute_input": "2024-11-15T07:30:16.835650Z",
     "iopub.status.busy": "2024-11-15T07:30:16.835286Z",
     "iopub.status.idle": "2024-11-15T07:30:19.782822Z",
     "shell.execute_reply": "2024-11-15T07:30:19.782013Z",
     "shell.execute_reply.started": "2024-11-15T07:30:16.835615Z"
    },
    "id": "1spWoMHRqsbc",
    "outputId": "bdab5646-3a7e-449d-c0cb-198e2442d3ed",
    "trusted": true
   },
   "outputs": [
    {
     "name": "stdout",
     "output_type": "stream",
     "text": [
      "[2 2 0 ... 0 2 0]\n",
      "[2 2 0 ... 0 2 0]\n"
     ]
    }
   ],
   "source": [
    "y_pred_probs = f_model.predict(x_test)\n",
    "y_pred = np.argmax(y_pred_probs, axis=1)\n",
    "y_true = np.argmax(y_test, axis=1)\n",
    "\n",
    "print(y_true)\n",
    "print(y_pred)\n"
   ]
  },
  {
   "cell_type": "code",
   "execution_count": null,
   "metadata": {
    "execution": {
     "iopub.execute_input": "2024-11-15T07:30:20.879297Z",
     "iopub.status.busy": "2024-11-15T07:30:20.878957Z",
     "iopub.status.idle": "2024-11-15T07:30:21.049323Z",
     "shell.execute_reply": "2024-11-15T07:30:21.048529Z",
     "shell.execute_reply.started": "2024-11-15T07:30:20.879268Z"
    },
    "id": "b3jNgzEzqsbc",
    "outputId": "131f1f17-cf0e-47df-a7db-3128a36ac652",
    "trusted": true
   },
   "outputs": [
    {
     "data": {
      "image/png": "[encoded data removed]",
      "text/plain": [
       "<Figure size 432x288 with 2 Axes>"
      ]
     },
     "metadata": {
      "needs_background": "light"
     },
     "output_type": "display_data"
    }
   ],
   "source": [
    "\n",
    "cm = confusion_matrix(y_true, y_pred)\n",
    "disp = ConfusionMatrixDisplay(confusion_matrix=cm, display_labels=np.unique(y_true))\n",
    "disp.plot(cmap=plt.cm.Blues)\n",
    "\n",
    "# Show the plot\n",
    "plt.title(\"Confusion Matrix\")\n",
    "plt.show()"
   ]
  },
  {
   "cell_type": "code",
   "execution_count": null,
   "metadata": {
    "execution": {
     "iopub.execute_input": "2024-11-15T07:30:24.676162Z",
     "iopub.status.busy": "2024-11-15T07:30:24.675840Z",
     "iopub.status.idle": "2024-11-15T07:30:24.689219Z",
     "shell.execute_reply": "2024-11-15T07:30:24.688364Z",
     "shell.execute_reply.started": "2024-11-15T07:30:24.676134Z"
    },
    "id": "lXi1U8CHqsbc",
    "outputId": "f0137072-63d4-4fb8-f280-59cd46ddc532",
    "trusted": true
   },
   "outputs": [
    {
     "name": "stdout",
     "output_type": "stream",
     "text": [
      "Precision: 0.8460975225754127\n",
      "Recall: 0.8427223334286531\n",
      "F1 Score: 0.8440602808975679\n"
     ]
    }
   ],
   "source": [
    "# Compute precision, recall, and F1 scores\n",
    "precision = precision_score(y_true, y_pred, average='weighted')\n",
    "recall = recall_score(y_true, y_pred, average='weighted')\n",
    "f1 = f1_score(y_true, y_pred, average='weighted')\n",
    "#print metrpics\n",
    "print(\"Precision:\", precision)\n",
    "print(\"Recall:\", recall)\n",
    "print(\"F1 Score:\", f1)\n"
   ]
  },
  {
   "cell_type": "markdown",
   "metadata": {
    "id": "gxpZ0lx1qsbd"
   },
   "source": [
    "# GoogLeNet"
   ]
  },
  {
   "cell_type": "code",
   "execution_count": null,
   "metadata": {
    "execution": {
     "iopub.execute_input": "2024-11-15T06:44:10.360379Z",
     "iopub.status.busy": "2024-11-15T06:44:10.359987Z",
     "iopub.status.idle": "2024-11-15T06:44:10.370392Z",
     "shell.execute_reply": "2024-11-15T06:44:10.369507Z",
     "shell.execute_reply.started": "2024-11-15T06:44:10.360339Z"
    },
    "id": "ZELjoCy2qsbd",
    "trusted": true
   },
   "outputs": [],
   "source": [
    "from tensorflow.keras.applications import InceptionV3"
   ]
  },
  {
   "cell_type": "code",
   "execution_count": null,
   "metadata": {
    "execution": {
     "iopub.execute_input": "2024-11-15T06:44:10.371812Z",
     "iopub.status.busy": "2024-11-15T06:44:10.371546Z",
     "iopub.status.idle": "2024-11-15T06:44:17.448791Z",
     "shell.execute_reply": "2024-11-15T06:44:17.447867Z",
     "shell.execute_reply.started": "2024-11-15T06:44:10.371786Z"
    },
    "id": "ESBDOAurqsbd",
    "outputId": "475479ed-b129-4d5d-d4d0-a7f168314464",
    "trusted": true
   },
   "outputs": [
    {
     "name": "stdout",
     "output_type": "stream",
     "text": [
      "Downloading data from https://storage.googleapis.com/tensorflow/keras-applications/inception_v3/inception_v3_weights_tf_dim_ordering_tf_kernels_notop.h5\n",
      "87916544/87910968 [==============================] - 4s 0us/step\n",
      "Model: \"functional_3\"\n",
      "_________________________________________________________________\n",
      "Layer (type)                 Output Shape              Param #   \n",
      "=================================================================\n",
      "input_5 (InputLayer)         [(None, 11, 61, 1)]       0         \n",
      "_________________________________________________________________\n",
      "lambda_1 (Lambda)            (None, 299, 299, 3)       0         \n",
      "_________________________________________________________________\n",
      "inception_v3 (Functional)    (None, 8, 8, 2048)        21802784  \n",
      "_________________________________________________________________\n",
      "global_average_pooling2d_1 ( (None, 2048)              0         \n",
      "_________________________________________________________________\n",
      "dropout_3 (Dropout)          (None, 2048)              0         \n",
      "_________________________________________________________________\n",
      "dense_4 (Dense)              (None, 3)                 6147      \n",
      "=================================================================\n",
      "Total params: 21,808,931\n",
      "Trainable params: 6,147\n",
      "Non-trainable params: 21,802,784\n",
      "_________________________________________________________________\n"
     ]
    }
   ],
   "source": [
    "# Import necessary libraries\n",
    "from tensorflow.keras.applications import InceptionV3\n",
    "from tensorflow.keras import layers, models\n",
    "import tensorflow as tf\n",
    "'''This model uses InceptionV3 to classify radar data into three classes by resizing the input to 299x299x3.\n",
    "The pre-trained InceptionV3 model processes the data, with its weights frozen, followed by pooling, dropout, and a softmax output layer.\n",
    "It is compiled with categorical cross-entropy loss and optimized using the Adam optimizer for training.'''\n",
    "# Load InceptionV3 pre-trained model (exclude top layers)\n",
    "base_model = InceptionV3(\n",
    "    input_shape=(299, 299, 3),  # Input size for InceptionV3\n",
    "    include_top=False,          # Exclude fully connected layers\n",
    "    weights='imagenet'          # Load pre-trained weights from ImageNet\n",
    ")\n",
    "\n",
    "# Freeze the base model layers (no training on them)\n",
    "base_model.trainable = False\n",
    "\n",
    "# Define the input shape for the radar data\n",
    "input_layer = layers.Input(shape=(11, 61, 1))\n",
    "\n",
    "# Function to resize and tile the radar data (single channel to three channels)\n",
    "def resizeandtile(inputs):\n",
    "    resized = tf.image.resize(inputs, (299, 299))  # Resize input to (299, 299)\n",
    "    return tf.concat([resized] * 3, axis=-1)        # Convert to 3 channels (RGB)\n",
    "\n",
    "# Apply the resize and tile function to the input data\n",
    "x = layers.Lambda(resizeandtile)(input_layer)\n",
    "\n",
    "# Pass the processed input through the InceptionV3 model\n",
    "x = base_model(x, training=False)\n",
    "\n",
    "# Apply global average pooling to reduce dimensions\n",
    "x = layers.GlobalAveragePooling2D()(x)\n",
    "\n",
    "# Add a dropout layer to prevent overfitting\n",
    "x = layers.Dropout(0.2)(x)\n",
    "\n",
    "# Output layer with softmax activation for 3-class classification\n",
    "output_layer = layers.Dense(3, activation='softmax')(x)\n",
    "\n",
    "# Create the model with input and output layers\n",
    "inception_model = models.Model(inputs=input_layer, outputs=output_layer)\n",
    "\n",
    "# Compile the model with Adam optimizer and categorical cross-entropy loss\n",
    "inception_model.compile(\n",
    "    optimizer=tf.keras.optimizers.Adam(learning_rate=0.001),  # Optimizer\n",
    "    loss='categorical_crossentropy',  # Loss function for multi-class classification\n",
    "    metrics=['accuracy']  # Track accuracy during training\n",
    ")\n",
    "\n",
    "# Display the model summary\n",
    "inception_model.summary()\n"
   ]
  },
  {
   "cell_type": "code",
   "execution_count": null,
   "metadata": {
    "execution": {
     "iopub.execute_input": "2024-11-15T06:44:17.450605Z",
     "iopub.status.busy": "2024-11-15T06:44:17.450221Z",
     "iopub.status.idle": "2024-11-15T07:09:20.472618Z",
     "shell.execute_reply": "2024-11-15T07:09:20.471767Z",
     "shell.execute_reply.started": "2024-11-15T06:44:17.450573Z"
    },
    "id": "HTiLrjPTqsbd",
    "outputId": "c11cda7b-71b3-4d9e-c587-0c00ed1cb105",
    "trusted": true
   },
   "outputs": [
    {
     "name": "stdout",
     "output_type": "stream",
     "text": [
      "Epoch 1/50\n",
      "383/383 [==============================] - 32s 84ms/step - loss: 0.4913 - accuracy: 0.7917 - val_loss: 0.3453 - val_accuracy: 0.8736\n",
      "Epoch 2/50\n",
      "383/383 [==============================] - 30s 78ms/step - loss: 0.3697 - accuracy: 0.8518 - val_loss: 0.3206 - val_accuracy: 0.8765\n",
      "Epoch 3/50\n",
      "383/383 [==============================] - 30s 78ms/step - loss: 0.3392 - accuracy: 0.8641 - val_loss: 0.3158 - val_accuracy: 0.8685\n",
      "Epoch 4/50\n",
      "383/383 [==============================] - 30s 78ms/step - loss: 0.3319 - accuracy: 0.8674 - val_loss: 0.3363 - val_accuracy: 0.8508\n",
      "Epoch 5/50\n",
      "383/383 [==============================] - 30s 78ms/step - loss: 0.3170 - accuracy: 0.8725 - val_loss: 0.2873 - val_accuracy: 0.8862\n",
      "Epoch 6/50\n",
      "383/383 [==============================] - 30s 78ms/step - loss: 0.3141 - accuracy: 0.8728 - val_loss: 0.2829 - val_accuracy: 0.8856\n",
      "Epoch 7/50\n",
      "383/383 [==============================] - 30s 78ms/step - loss: 0.3055 - accuracy: 0.8779 - val_loss: 0.3676 - val_accuracy: 0.8096\n",
      "Epoch 8/50\n",
      "383/383 [==============================] - 30s 78ms/step - loss: 0.3018 - accuracy: 0.8801 - val_loss: 0.2779 - val_accuracy: 0.8925\n",
      "Epoch 9/50\n",
      "383/383 [==============================] - 30s 78ms/step - loss: 0.2965 - accuracy: 0.8804 - val_loss: 0.2807 - val_accuracy: 0.8954\n",
      "Epoch 10/50\n",
      "383/383 [==============================] - 30s 77ms/step - loss: 0.2943 - accuracy: 0.8823 - val_loss: 0.2902 - val_accuracy: 0.8725\n",
      "Epoch 11/50\n",
      "383/383 [==============================] - 30s 78ms/step - loss: 0.2945 - accuracy: 0.8802 - val_loss: 0.2905 - val_accuracy: 0.8891\n",
      "Epoch 12/50\n",
      "383/383 [==============================] - 30s 77ms/step - loss: 0.2945 - accuracy: 0.8828 - val_loss: 0.2679 - val_accuracy: 0.8931\n",
      "Epoch 13/50\n",
      "383/383 [==============================] - 30s 78ms/step - loss: 0.2834 - accuracy: 0.8835 - val_loss: 0.2960 - val_accuracy: 0.8828\n",
      "Epoch 14/50\n",
      "383/383 [==============================] - 30s 77ms/step - loss: 0.2927 - accuracy: 0.8854 - val_loss: 0.2747 - val_accuracy: 0.8822\n",
      "Epoch 15/50\n",
      "383/383 [==============================] - 30s 78ms/step - loss: 0.2855 - accuracy: 0.8829 - val_loss: 0.2655 - val_accuracy: 0.8937\n",
      "Epoch 16/50\n",
      "383/383 [==============================] - 30s 78ms/step - loss: 0.2818 - accuracy: 0.8850 - val_loss: 0.2717 - val_accuracy: 0.8942\n",
      "Epoch 17/50\n",
      "383/383 [==============================] - 30s 77ms/step - loss: 0.2812 - accuracy: 0.8863 - val_loss: 0.2611 - val_accuracy: 0.8959\n",
      "Epoch 18/50\n",
      "383/383 [==============================] - 30s 77ms/step - loss: 0.2717 - accuracy: 0.8904 - val_loss: 0.2794 - val_accuracy: 0.8856\n",
      "Epoch 19/50\n",
      "383/383 [==============================] - 30s 77ms/step - loss: 0.2712 - accuracy: 0.8906 - val_loss: 0.2978 - val_accuracy: 0.8696\n",
      "Epoch 20/50\n",
      "383/383 [==============================] - 30s 77ms/step - loss: 0.2746 - accuracy: 0.8895 - val_loss: 0.2651 - val_accuracy: 0.8954\n",
      "Epoch 21/50\n",
      "383/383 [==============================] - 30s 77ms/step - loss: 0.2753 - accuracy: 0.8879 - val_loss: 0.2941 - val_accuracy: 0.8714\n",
      "Epoch 22/50\n",
      "383/383 [==============================] - 30s 78ms/step - loss: 0.2739 - accuracy: 0.8875 - val_loss: 0.2616 - val_accuracy: 0.8908\n",
      "Epoch 23/50\n",
      "383/383 [==============================] - 30s 78ms/step - loss: 0.2721 - accuracy: 0.8900 - val_loss: 0.3369 - val_accuracy: 0.8656\n",
      "Epoch 24/50\n",
      "383/383 [==============================] - 30s 78ms/step - loss: 0.2777 - accuracy: 0.8876 - val_loss: 0.2573 - val_accuracy: 0.8942\n",
      "Epoch 25/50\n",
      "383/383 [==============================] - 30s 78ms/step - loss: 0.2681 - accuracy: 0.8879 - val_loss: 0.2576 - val_accuracy: 0.8988\n",
      "Epoch 26/50\n",
      "383/383 [==============================] - 30s 78ms/step - loss: 0.2702 - accuracy: 0.8881 - val_loss: 0.2716 - val_accuracy: 0.8862\n",
      "Epoch 27/50\n",
      "383/383 [==============================] - 30s 77ms/step - loss: 0.2709 - accuracy: 0.8909 - val_loss: 0.2783 - val_accuracy: 0.8845\n",
      "Epoch 28/50\n",
      "383/383 [==============================] - 30s 77ms/step - loss: 0.2709 - accuracy: 0.8895 - val_loss: 0.2756 - val_accuracy: 0.8851\n",
      "Epoch 29/50\n",
      "383/383 [==============================] - 30s 77ms/step - loss: 0.2685 - accuracy: 0.8905 - val_loss: 0.2596 - val_accuracy: 0.8931\n",
      "Epoch 30/50\n",
      "383/383 [==============================] - 30s 77ms/step - loss: 0.2701 - accuracy: 0.8879 - val_loss: 0.2752 - val_accuracy: 0.8856\n",
      "Epoch 31/50\n",
      "383/383 [==============================] - 30s 77ms/step - loss: 0.2654 - accuracy: 0.8892 - val_loss: 0.2619 - val_accuracy: 0.8942\n",
      "Epoch 32/50\n",
      "383/383 [==============================] - 30s 78ms/step - loss: 0.2623 - accuracy: 0.8946 - val_loss: 0.2614 - val_accuracy: 0.8942\n",
      "Epoch 33/50\n",
      "383/383 [==============================] - 30s 78ms/step - loss: 0.2626 - accuracy: 0.8917 - val_loss: 0.2555 - val_accuracy: 0.8994\n",
      "Epoch 34/50\n",
      "383/383 [==============================] - 30s 78ms/step - loss: 0.2625 - accuracy: 0.8912 - val_loss: 0.2533 - val_accuracy: 0.8931\n",
      "Epoch 35/50\n",
      "383/383 [==============================] - 30s 78ms/step - loss: 0.2651 - accuracy: 0.8901 - val_loss: 0.2548 - val_accuracy: 0.8982\n",
      "Epoch 36/50\n",
      "383/383 [==============================] - 30s 78ms/step - loss: 0.2687 - accuracy: 0.8877 - val_loss: 0.2596 - val_accuracy: 0.8942\n",
      "Epoch 37/50\n",
      "383/383 [==============================] - 30s 78ms/step - loss: 0.2654 - accuracy: 0.8908 - val_loss: 0.2706 - val_accuracy: 0.8902\n",
      "Epoch 38/50\n",
      "383/383 [==============================] - 30s 78ms/step - loss: 0.2622 - accuracy: 0.8930 - val_loss: 0.2599 - val_accuracy: 0.8954\n",
      "Epoch 39/50\n",
      "383/383 [==============================] - 30s 78ms/step - loss: 0.2653 - accuracy: 0.8911 - val_loss: 0.2852 - val_accuracy: 0.8765\n",
      "Epoch 40/50\n",
      "383/383 [==============================] - 30s 77ms/step - loss: 0.2629 - accuracy: 0.8888 - val_loss: 0.2863 - val_accuracy: 0.8805\n",
      "Epoch 41/50\n",
      "383/383 [==============================] - 30s 77ms/step - loss: 0.2626 - accuracy: 0.8912 - val_loss: 0.2574 - val_accuracy: 0.8937\n",
      "Epoch 42/50\n",
      "383/383 [==============================] - 30s 78ms/step - loss: 0.2613 - accuracy: 0.8906 - val_loss: 0.2599 - val_accuracy: 0.8925\n",
      "Epoch 43/50\n",
      "383/383 [==============================] - 30s 77ms/step - loss: 0.2675 - accuracy: 0.8916 - val_loss: 0.2580 - val_accuracy: 0.8937\n",
      "Epoch 44/50\n",
      "383/383 [==============================] - 30s 78ms/step - loss: 0.2611 - accuracy: 0.8922 - val_loss: 0.2964 - val_accuracy: 0.8719\n",
      "Epoch 45/50\n",
      "383/383 [==============================] - 30s 77ms/step - loss: 0.2601 - accuracy: 0.8941 - val_loss: 0.2862 - val_accuracy: 0.8834\n",
      "Epoch 46/50\n",
      "383/383 [==============================] - 30s 77ms/step - loss: 0.2598 - accuracy: 0.8935 - val_loss: 0.2538 - val_accuracy: 0.8954\n",
      "Epoch 47/50\n",
      "383/383 [==============================] - 30s 78ms/step - loss: 0.2561 - accuracy: 0.8934 - val_loss: 0.2599 - val_accuracy: 0.8948\n",
      "Epoch 48/50\n",
      "383/383 [==============================] - 30s 78ms/step - loss: 0.2611 - accuracy: 0.8924 - val_loss: 0.2564 - val_accuracy: 0.8965\n",
      "Epoch 49/50\n",
      "383/383 [==============================] - 30s 78ms/step - loss: 0.2613 - accuracy: 0.8922 - val_loss: 0.2902 - val_accuracy: 0.8822\n",
      "Epoch 50/50\n",
      "383/383 [==============================] - 30s 78ms/step - loss: 0.2652 - accuracy: 0.8898 - val_loss: 0.2563 - val_accuracy: 0.8965\n"
     ]
    }
   ],
   "source": [
    "history=inception_model.fit(train_dataset, validation_data=val_dataset, epochs=20)"
   ]
  },
  {
   "cell_type": "code",
   "execution_count": null,
   "metadata": {
    "execution": {
     "iopub.execute_input": "2024-11-15T07:09:20.474022Z",
     "iopub.status.busy": "2024-11-15T07:09:20.473743Z",
     "iopub.status.idle": "2024-11-15T07:09:20.811339Z",
     "shell.execute_reply": "2024-11-15T07:09:20.810578Z",
     "shell.execute_reply.started": "2024-11-15T07:09:20.473993Z"
    },
    "id": "RUt_syqUqsbd",
    "outputId": "cddfe6ca-a926-448a-801a-e5c3fd0b469d",
    "trusted": true
   },
   "outputs": [
    {
     "data": {
      "image/png": "[encoded data removed]",
      "text/plain": [
       "<Figure size 432x288 with 1 Axes>"
      ]
     },
     "metadata": {
      "needs_background": "light"
     },
     "output_type": "display_data"
    },
    {
     "data": {
      "image/png": "[encoded data removed]",
      "text/plain": [
       "<Figure size 432x288 with 1 Axes>"
      ]
     },
     "metadata": {
      "needs_background": "light"
     },
     "output_type": "display_data"
    }
   ],
   "source": [
    "# Training and validation loss and accuracy\n",
    "train_loss = history.history['loss']\n",
    "val_loss = history.history['val_loss']\n",
    "train_acc = history.history['accuracy']\n",
    "val_acc = history.history['val_accuracy']\n",
    "\n",
    "# Plot the loss curves\n",
    "plt.plot(history.history['loss'], label='Training Loss')\n",
    "plt.plot(history.history['val_loss'], label='Validation Loss')\n",
    "plt.title('Training and Validation Loss')\n",
    "plt.xlabel('Epochs')\n",
    "plt.ylabel('Loss')\n",
    "plt.legend()\n",
    "plt.show()\n",
    "\n",
    "# Plot the accuracy curves\n",
    "plt.plot(history.history['accuracy'], label='Training Accuracy')\n",
    "plt.plot(history.history['val_accuracy'], label='Validation Accuracy')\n",
    "plt.title('Training and Validation Accuracy')\n",
    "plt.xlabel('Epochs')\n",
    "plt.ylabel('Accuracy')\n",
    "plt.legend()\n",
    "plt.show()"
   ]
  },
  {
   "cell_type": "code",
   "execution_count": null,
   "metadata": {
    "execution": {
     "iopub.execute_input": "2024-11-15T07:32:37.549428Z",
     "iopub.status.busy": "2024-11-15T07:32:37.549076Z",
     "iopub.status.idle": "2024-11-15T07:32:45.774926Z",
     "shell.execute_reply": "2024-11-15T07:32:45.773942Z",
     "shell.execute_reply.started": "2024-11-15T07:32:37.549398Z"
    },
    "id": "cBY7UwdFqsbe",
    "outputId": "e1021551-a007-48d8-8c2e-197aff1a8941",
    "trusted": true
   },
   "outputs": [
    {
     "name": "stdout",
     "output_type": "stream",
     "text": [
      "Accuracy =  0.885902201887332\n",
      "[2 2 0 ... 0 2 0]\n",
      "[2 2 1 ... 0 2 0]\n"
     ]
    }
   ],
   "source": [
    "y_pred_probs = inception_model.predict(x_test)\n",
    "y_pred = np.argmax(y_pred_probs, axis=1)\n",
    "y_true = np.argmax(y_test, axis=1)\n",
    "#print metrics\n",
    "print(\"Accuracy = \",np.mean(y_pred==y_true))\n",
    "print(y_true)\n",
    "print(y_pred)"
   ]
  },
  {
   "cell_type": "code",
   "execution_count": null,
   "metadata": {
    "execution": {
     "iopub.execute_input": "2024-11-15T07:32:45.777382Z",
     "iopub.status.busy": "2024-11-15T07:32:45.776997Z",
     "iopub.status.idle": "2024-11-15T07:32:45.960372Z",
     "shell.execute_reply": "2024-11-15T07:32:45.959217Z",
     "shell.execute_reply.started": "2024-11-15T07:32:45.777344Z"
    },
    "id": "SlG9bylKqsbe",
    "outputId": "1290fb2d-51bf-4473-9828-d7d4a69bc0ac",
    "trusted": true
   },
   "outputs": [
    {
     "data": {
      "image/png": "[encoded data removed]",
      "text/plain": [
       "<Figure size 432x288 with 2 Axes>"
      ]
     },
     "metadata": {
      "needs_background": "light"
     },
     "output_type": "display_data"
    }
   ],
   "source": [
    "from sklearn.metrics import confusion_matrix, ConfusionMatrixDisplay\n",
    "cm = confusion_matrix(y_true, y_pred)\n",
    "disp = ConfusionMatrixDisplay(confusion_matrix=cm, display_labels=np.unique(y_true))\n",
    "disp.plot(cmap=plt.cm.Blues)\n",
    "\n",
    "# Show the plot\n",
    "plt.title(\"Confusion Matrix\")\n",
    "plt.show()"
   ]
  },
  {
   "cell_type": "code",
   "execution_count": null,
   "metadata": {
    "execution": {
     "iopub.execute_input": "2024-11-15T07:32:49.628612Z",
     "iopub.status.busy": "2024-11-15T07:32:49.628277Z",
     "iopub.status.idle": "2024-11-15T07:32:49.641990Z",
     "shell.execute_reply": "2024-11-15T07:32:49.640975Z",
     "shell.execute_reply.started": "2024-11-15T07:32:49.628583Z"
    },
    "id": "jIas2m_lqsbe",
    "outputId": "ab798e0f-0b69-446c-ecb3-00665e3a2d23",
    "trusted": true
   },
   "outputs": [
    {
     "name": "stdout",
     "output_type": "stream",
     "text": [
      "Precision: 0.8931147576404006\n",
      "Recall: 0.885902201887332\n",
      "F1 Score: 0.8862618543705263\n"
     ]
    }
   ],
   "source": [
    "# Compute precision, recall, and F1 scores\n",
    "precision = precision_score(y_true, y_pred, average='weighted')\n",
    "recall = recall_score(y_true, y_pred, average='weighted')\n",
    "f1 = f1_score(y_true, y_pred, average='weighted')\n",
    "\n",
    "print(\"Precision:\", precision)\n",
    "print(\"Recall:\", recall)\n",
    "print(\"F1 Score:\", f1)"
   ]
  }
 ],
 "metadata": {
  "colab": {
   "provenance": []
  },
  "kaggle": {
   "accelerator": "gpu",
   "dataSources": [
    {
     "datasetId": 249006,
     "sourceId": 524740,
     "sourceType": "datasetVersion"
    }
   ],
   "dockerImageVersionId": 30019,
   "isGpuEnabled": true,
   "isInternetEnabled": true,
   "language": "python",
   "sourceType": "notebook"
  },
  "kernelspec": {
   "display_name": "Python 3",
   "language": "python",
   "name": "python3"
  },
  "language_info": {
   "codemirror_mode": {
    "name": "ipython",
    "version": 3
   },
   "file_extension": ".py",
   "mimetype": "text/x-python",
   "name": "python",
   "nbconvert_exporter": "python",
   "pygments_lexer": "ipython3",
   "version": "3.7.6"
  }
 },
 "nbformat": 4,
 "nbformat_minor": 0
}
